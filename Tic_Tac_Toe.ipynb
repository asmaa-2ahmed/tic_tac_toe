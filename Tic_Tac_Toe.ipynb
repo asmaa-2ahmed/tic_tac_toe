{
  "nbformat": 4,
  "nbformat_minor": 0,
  "metadata": {
    "colab": {
      "provenance": [],
      "collapsed_sections": [
        "ZaIwkooboJ5p",
        "VNl11PuZgDjc"
      ]
    },
    "kernelspec": {
      "name": "python3",
      "display_name": "Python 3"
    },
    "language_info": {
      "name": "python"
    }
  },
  "cells": [
    {
      "cell_type": "markdown",
      "source": [
        "## Show Board"
      ],
      "metadata": {
        "id": "qjKBWyq4f3Fr"
      }
    },
    {
      "cell_type": "code",
      "source": [
        "def show_board(board):\n",
        "  print(\" {} | {} | {} \" .format(board[0][0],board[0][1],board[0][2]))\n",
        "  print(\"___|___|___\")\n",
        "  print(\" {} | {} | {} \" .format(board[1][0],board[1][1],board[1][2]))\n",
        "  print(\"___|___|___\")\n",
        "  print(\" {} | {} | {} \" .format(board[2][0],board[2][1],board[2][2]))"
      ],
      "metadata": {
        "id": "Bn6VqZo_Xze5"
      },
      "execution_count": null,
      "outputs": []
    },
    {
      "cell_type": "markdown",
      "source": [
        "## Set Players"
      ],
      "metadata": {
        "id": "ZaIwkooboJ5p"
      }
    },
    {
      "cell_type": "code",
      "source": [
        "import random\n",
        "def set_players():\n",
        "  player1 = random.choice(('X','O'))\n",
        "  if player1 == 'X':\n",
        "    player2='O'\n",
        "  else:\n",
        "    player2='X'\n",
        "  return(player1,player2)"
      ],
      "metadata": {
        "id": "we7UkC6AhFwy"
      },
      "execution_count": null,
      "outputs": []
    },
    {
      "cell_type": "markdown",
      "source": [
        "## Take Input"
      ],
      "metadata": {
        "id": "VNl11PuZgDjc"
      }
    },
    {
      "cell_type": "code",
      "source": [
        "def take_input(board, player):\n",
        "  while True:\n",
        "    player_input=int(input('Please Enter a number (1->9) in an empty position : '))\n",
        "    if player_input == 1 and board[0][0]==1:\n",
        "      board[0][0] = player\n",
        "      break\n",
        "    elif player_input == 2 and board[0][1]==2:\n",
        "      board[0][1] = player\n",
        "      break\n",
        "    elif player_input == 3 and board[0][2] == 3:\n",
        "      board[0][2] = player\n",
        "      break\n",
        "    elif player_input == 4 and board[1][0] == 4 :\n",
        "      board[1][0] = player\n",
        "      break\n",
        "    elif player_input == 5 and board[1][1]==5:\n",
        "      board[1][1] = player\n",
        "      break\n",
        "    elif player_input == 6 and board[1][2]==6:\n",
        "      board[1][2] = player\n",
        "      break\n",
        "    elif player_input == 7 and board[2][0]==7 :\n",
        "      board[2][0] = player\n",
        "      break\n",
        "    elif player_input == 8 and board[2][1]==8 :\n",
        "      board[2][1] = player\n",
        "      break\n",
        "    elif player_input == 9 and board[2][2] ==9:\n",
        "      board[2][2] = player\n",
        "      break\n",
        "    else:\n",
        "      print('Please Enter a valid position ....')\n",
        "      continue"
      ],
      "metadata": {
        "id": "pZAd299MY2fw"
      },
      "execution_count": null,
      "outputs": []
    },
    {
      "cell_type": "markdown",
      "source": [
        "## Check Full Board"
      ],
      "metadata": {
        "id": "mgCFF48jgVq7"
      }
    },
    {
      "cell_type": "code",
      "source": [
        "def check_full_board(board):\n",
        "  numList = range(1,10)\n",
        "  for row in board:\n",
        "    for column in row:\n",
        "      if column in numList:\n",
        "        return False\n",
        "  return True"
      ],
      "metadata": {
        "id": "obxUdjg_ThZi"
      },
      "execution_count": null,
      "outputs": []
    },
    {
      "cell_type": "markdown",
      "source": [
        "## Check Win\n"
      ],
      "metadata": {
        "id": "OjfyXPCeoQM4"
      }
    },
    {
      "cell_type": "code",
      "source": [
        "def check_win(board ):\n",
        "  if board[0][0] == board[1][1] == board[2][2] or \\\n",
        "    board[0][2] == board[1][1] == board[2][0] or \\\n",
        "    board[0][0] == board[0][1] == board[0][2] or \\\n",
        "    board[1][0] == board[1][1] == board[1][2] or \\\n",
        "    board[2][0] == board[2][1] == board[2][2] or \\\n",
        "    board[0][0] == board[1][0] == board[2][0] or \\\n",
        "    board[0][1] == board[1][1] == board[2][1] or \\\n",
        "    board[0][2] == board[1][2] == board[2][2]:\n",
        "    return True\n",
        "  return False"
      ],
      "metadata": {
        "id": "NTxJ1qsJmhoG"
      },
      "execution_count": null,
      "outputs": []
    },
    {
      "cell_type": "markdown",
      "source": [
        "## Let's Play"
      ],
      "metadata": {
        "id": "uI9u-XGV2S7P"
      }
    },
    {
      "cell_type": "code",
      "source": [
        "def play(points1,points2):\n",
        "  print('Hello to Tic Tac Toe Game ....')\n",
        "  p1 , p2 = set_players()\n",
        "  print (f'Player 1 : {p1} \\n Player 2 : {p2}')\n",
        "  board=[[1,2,3],[4,5,6],[7,8,9]]\n",
        "  show_board(board)\n",
        "  while True:\n",
        "    for player in [p1 , p2]:\n",
        "      print(f'Your Turn ..... {player}')\n",
        "      take_input(board , player)\n",
        "      show_board(board)\n",
        "      if check_win(board):\n",
        "        print(f'Congratulations,You Win {player}')\n",
        "        if player==p1:\n",
        "          points1+=1\n",
        "        else:\n",
        "          points2+=1\n",
        "        return points1 , points2\n",
        "      if check_full_board(board):\n",
        "        print('Game Finished. Draw!!')\n",
        "        return points1 , points2"
      ],
      "metadata": {
        "id": "4nIAPOhSpksM"
      },
      "execution_count": null,
      "outputs": []
    },
    {
      "cell_type": "code",
      "source": [
        "def play_again(points1 , points2):\n",
        "  question = input(\"Playing Again ? \\n Y for yes \\t any button for exit\\n\")\n",
        "  if question.lower() == 'y':\n",
        "    return True\n",
        "  else:\n",
        "    print(f\"\"\"Hope You Come Soon ....\\n\n",
        "    player 1 : {points1} \\t player 2: {points2}\n",
        "    \"\"\")\n",
        "    return False"
      ],
      "metadata": {
        "id": "KmkFOnNKX26M"
      },
      "execution_count": null,
      "outputs": []
    },
    {
      "cell_type": "code",
      "source": [
        "points1=0\n",
        "points2=0\n",
        "playing = True\n",
        "while playing:\n",
        "  points1, points2 = play(points1, points2)\n",
        "  playing = play_again(points1, points2)\n"
      ],
      "metadata": {
        "colab": {
          "base_uri": "https://localhost:8080/"
        },
        "id": "-O444ysf1h8w",
        "outputId": "233d852d-6f06-4b80-9169-c8e50b90f2f3"
      },
      "execution_count": null,
      "outputs": [
        {
          "output_type": "stream",
          "name": "stdout",
          "text": [
            "Hello to Tic Tac Toe Game ....\n",
            "Player 1 : O \n",
            " Player 2 : X\n",
            " 1 | 2 | 3 \n",
            "___|___|___\n",
            " 4 | 5 | 6 \n",
            "___|___|___\n",
            " 7 | 8 | 9 \n",
            "Your Turn ..... O\n",
            "Please Enter a number (1->9) in an empty position : 1\n",
            " O | 2 | 3 \n",
            "___|___|___\n",
            " 4 | 5 | 6 \n",
            "___|___|___\n",
            " 7 | 8 | 9 \n",
            "Your Turn ..... X\n",
            "Please Enter a number (1->9) in an empty position : 2\n",
            " O | X | 3 \n",
            "___|___|___\n",
            " 4 | 5 | 6 \n",
            "___|___|___\n",
            " 7 | 8 | 9 \n",
            "Your Turn ..... O\n",
            "Please Enter a number (1->9) in an empty position : 3\n",
            " O | X | O \n",
            "___|___|___\n",
            " 4 | 5 | 6 \n",
            "___|___|___\n",
            " 7 | 8 | 9 \n",
            "Your Turn ..... X\n",
            "Please Enter a number (1->9) in an empty position : 4\n",
            " O | X | O \n",
            "___|___|___\n",
            " X | 5 | 6 \n",
            "___|___|___\n",
            " 7 | 8 | 9 \n",
            "Your Turn ..... O\n",
            "Please Enter a number (1->9) in an empty position : 5\n",
            " O | X | O \n",
            "___|___|___\n",
            " X | O | 6 \n",
            "___|___|___\n",
            " 7 | 8 | 9 \n",
            "Your Turn ..... X\n",
            "Please Enter a number (1->9) in an empty position : 6\n",
            " O | X | O \n",
            "___|___|___\n",
            " X | O | X \n",
            "___|___|___\n",
            " 7 | 8 | 9 \n",
            "Your Turn ..... O\n",
            "Please Enter a number (1->9) in an empty position : 7\n",
            " O | X | O \n",
            "___|___|___\n",
            " X | O | X \n",
            "___|___|___\n",
            " O | 8 | 9 \n",
            "Congratulations,You Win O\n",
            "Playing Again ? \n",
            " Y for yes \t any button for exit\n",
            "y\n",
            "Hello to Tic Tac Toe Game ....\n",
            "Player 1 : X \n",
            " Player 2 : O\n",
            " 1 | 2 | 3 \n",
            "___|___|___\n",
            " 4 | 5 | 6 \n",
            "___|___|___\n",
            " 7 | 8 | 9 \n",
            "Your Turn ..... X\n",
            "Please Enter a number (1->9) in an empty position : 9\n",
            " 1 | 2 | 3 \n",
            "___|___|___\n",
            " 4 | 5 | 6 \n",
            "___|___|___\n",
            " 7 | 8 | X \n",
            "Your Turn ..... O\n",
            "Please Enter a number (1->9) in an empty position : 8\n",
            " 1 | 2 | 3 \n",
            "___|___|___\n",
            " 4 | 5 | 6 \n",
            "___|___|___\n",
            " 7 | O | X \n",
            "Your Turn ..... X\n",
            "Please Enter a number (1->9) in an empty position : 7\n",
            " 1 | 2 | 3 \n",
            "___|___|___\n",
            " 4 | 5 | 6 \n",
            "___|___|___\n",
            " X | O | X \n",
            "Your Turn ..... O\n",
            "Please Enter a number (1->9) in an empty position : 6\n",
            " 1 | 2 | 3 \n",
            "___|___|___\n",
            " 4 | 5 | O \n",
            "___|___|___\n",
            " X | O | X \n",
            "Your Turn ..... X\n",
            "Please Enter a number (1->9) in an empty position : 5\n",
            " 1 | 2 | 3 \n",
            "___|___|___\n",
            " 4 | X | O \n",
            "___|___|___\n",
            " X | O | X \n",
            "Your Turn ..... O\n",
            "Please Enter a number (1->9) in an empty position : 4\n",
            " 1 | 2 | 3 \n",
            "___|___|___\n",
            " O | X | O \n",
            "___|___|___\n",
            " X | O | X \n",
            "Your Turn ..... X\n",
            "Please Enter a number (1->9) in an empty position : 1\n",
            " X | 2 | 3 \n",
            "___|___|___\n",
            " O | X | O \n",
            "___|___|___\n",
            " X | O | X \n",
            "Congratulations,You Win X\n",
            "Playing Again ? \n",
            " Y for yes \t any button for exit\n",
            "y\n",
            "Hello to Tic Tac Toe Game ....\n",
            "Player 1 : O \n",
            " Player 2 : X\n",
            " 1 | 2 | 3 \n",
            "___|___|___\n",
            " 4 | 5 | 6 \n",
            "___|___|___\n",
            " 7 | 8 | 9 \n",
            "Your Turn ..... O\n",
            "Please Enter a number (1->9) in an empty position : 1\n",
            " O | 2 | 3 \n",
            "___|___|___\n",
            " 4 | 5 | 6 \n",
            "___|___|___\n",
            " 7 | 8 | 9 \n",
            "Your Turn ..... X\n",
            "Please Enter a number (1->9) in an empty position : 2\n",
            " O | X | 3 \n",
            "___|___|___\n",
            " 4 | 5 | 6 \n",
            "___|___|___\n",
            " 7 | 8 | 9 \n",
            "Your Turn ..... O\n",
            "Please Enter a number (1->9) in an empty position : 3\n",
            " O | X | O \n",
            "___|___|___\n",
            " 4 | 5 | 6 \n",
            "___|___|___\n",
            " 7 | 8 | 9 \n",
            "Your Turn ..... X\n",
            "Please Enter a number (1->9) in an empty position : 4\n",
            " O | X | O \n",
            "___|___|___\n",
            " X | 5 | 6 \n",
            "___|___|___\n",
            " 7 | 8 | 9 \n",
            "Your Turn ..... O\n",
            "Please Enter a number (1->9) in an empty position : 5\n",
            " O | X | O \n",
            "___|___|___\n",
            " X | O | 6 \n",
            "___|___|___\n",
            " 7 | 8 | 9 \n",
            "Your Turn ..... X\n",
            "Please Enter a number (1->9) in an empty position : 6\n",
            " O | X | O \n",
            "___|___|___\n",
            " X | O | X \n",
            "___|___|___\n",
            " 7 | 8 | 9 \n",
            "Your Turn ..... O\n",
            "Please Enter a number (1->9) in an empty position : 8\n",
            " O | X | O \n",
            "___|___|___\n",
            " X | O | X \n",
            "___|___|___\n",
            " 7 | O | 9 \n",
            "Your Turn ..... X\n",
            "Please Enter a number (1->9) in an empty position : 9\n",
            " O | X | O \n",
            "___|___|___\n",
            " X | O | X \n",
            "___|___|___\n",
            " 7 | O | X \n",
            "Your Turn ..... O\n",
            "Please Enter a number (1->9) in an empty position : 7\n",
            " O | X | O \n",
            "___|___|___\n",
            " X | O | X \n",
            "___|___|___\n",
            " O | O | X \n",
            "Congratulations,You Win O\n",
            "Playing Again ? \n",
            " Y for yes \t any button for exit\n",
            "y\n",
            "Hello to Tic Tac Toe Game ....\n",
            "Player 1 : X \n",
            " Player 2 : O\n",
            " 1 | 2 | 3 \n",
            "___|___|___\n",
            " 4 | 5 | 6 \n",
            "___|___|___\n",
            " 7 | 8 | 9 \n",
            "Your Turn ..... X\n",
            "Please Enter a number (1->9) in an empty position : 1\n",
            " X | 2 | 3 \n",
            "___|___|___\n",
            " 4 | 5 | 6 \n",
            "___|___|___\n",
            " 7 | 8 | 9 \n",
            "Your Turn ..... O\n",
            "Please Enter a number (1->9) in an empty position : 2\n",
            " X | O | 3 \n",
            "___|___|___\n",
            " 4 | 5 | 6 \n",
            "___|___|___\n",
            " 7 | 8 | 9 \n",
            "Your Turn ..... X\n",
            "Please Enter a number (1->9) in an empty position : 3\n",
            " X | O | X \n",
            "___|___|___\n",
            " 4 | 5 | 6 \n",
            "___|___|___\n",
            " 7 | 8 | 9 \n",
            "Your Turn ..... O\n",
            "Please Enter a number (1->9) in an empty position : 5\n",
            " X | O | X \n",
            "___|___|___\n",
            " 4 | O | 6 \n",
            "___|___|___\n",
            " 7 | 8 | 9 \n",
            "Your Turn ..... X\n",
            "Please Enter a number (1->9) in an empty position : 9\n",
            " X | O | X \n",
            "___|___|___\n",
            " 4 | O | 6 \n",
            "___|___|___\n",
            " 7 | 8 | X \n",
            "Your Turn ..... O\n",
            "Please Enter a number (1->9) in an empty position : 8\n",
            " X | O | X \n",
            "___|___|___\n",
            " 4 | O | 6 \n",
            "___|___|___\n",
            " 7 | O | X \n",
            "Congratulations,You Win O\n",
            "Playing Again ? \n",
            " Y for yes \t any button for exit\n",
            "i\n",
            "Hope You Come Soon ....\n",
            "\n",
            "    player 1 : 3 \t player 2: 1\n",
            "    \n"
          ]
        }
      ]
    }
  ]
}